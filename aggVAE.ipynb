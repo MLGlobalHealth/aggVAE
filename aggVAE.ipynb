{
 "cells": [
  {
   "cell_type": "code",
   "execution_count": null,
   "id": "6e2db4e5",
   "metadata": {},
   "outputs": [],
   "source": [
    "# general libraries\n",
    "import time\n",
    "import math\n",
    "import numpy as np\n",
    "from shapely import geometry\n",
    "from shapely.geometry import Polygon\n",
    "import matplotlib\n",
    "import matplotlib.pyplot as plt\n",
    "import pickle\n",
    "import os\n",
    "import geopandas as gpd\n",
    "import matplotlib.pyplot as plt\n",
    "from mpl_toolkits.axes_grid1 import make_axes_locatable\n",
    "import pandas as pd\n",
    "import dill\n",
    "import geopandas\n",
    "import geopandas as gpd\n",
    "import matplotlib.colors as colors\n",
    "\n",
    "\n",
    "# JAX\n",
    "import jax\n",
    "import jax.numpy as jnp\n",
    "from jax import random, lax, jit, ops\n",
    "from jax.experimental import stax\n",
    "\n",
    "\n",
    "# Numpyro\n",
    "import numpyro\n",
    "from numpyro.infer import SVI, MCMC, NUTS, init_to_median, Predictive, RenyiELBO\n",
    "import numpyro.distributions as dist\n",
    "from numpyro.diagnostics import hpdi\n",
    "from numpyro import optim\n",
    "\n",
    "print(jax.__version__)\n",
    "print(numpyro.__version__)"
   ]
  },
  {
   "cell_type": "markdown",
   "id": "1958627e",
   "metadata": {},
   "source": [
    "## Read shape files"
   ]
  },
  {
   "cell_type": "code",
   "execution_count": null,
   "id": "91aaf017",
   "metadata": {},
   "outputs": [],
   "source": [
    "shape_new = gpd.read_file('../data/ken_adm_iebc_20191031_shp/ken_admbnda_adm1_iebc_20191031.shp')\n",
    "shape_new = shape_new[['ADM1_EN', 'geometry']]\n",
    "shape_new['new'] = 1\n",
    "shape_new.head(2)"
   ]
  },
  {
   "cell_type": "code",
   "execution_count": null,
   "id": "c5694dd1",
   "metadata": {},
   "outputs": [],
   "source": [
    "shape_old = gpd.read_file('../data/ke_district_boundaries/ke_district_boundaries.shp')\n",
    "shape_old = shape_old.rename({'DISTNAME': 'ADM1_EN'}, axis='columns')\n",
    "shape_old['new'] = 0\n",
    "shape_old.head(2)"
   ]
  },
  {
   "cell_type": "code",
   "execution_count": null,
   "id": "bc434315",
   "metadata": {},
   "outputs": [],
   "source": [
    "fig, (ax1, ax2) = plt.subplots(ncols=2, sharex=True, sharey=True)\n",
    "shape_new.plot(ax=ax1, column='ADM1_EN')\n",
    "shape_old.plot(ax=ax2, column='ADM1_EN')"
   ]
  },
  {
   "cell_type": "code",
   "execution_count": null,
   "id": "7dac5ef4",
   "metadata": {},
   "outputs": [],
   "source": [
    "shape_old.boundary.plot(linewidth=0.5,  edgecolor='black', figsize=(6,6))\n",
    "#plt.rcParams['figure.dpi'] = 300\n",
    "#plt.rcParams['savefig.dpi'] = 300\n",
    "#plt.savefig('res/boundaries_before2010.pdf')"
   ]
  },
  {
   "cell_type": "code",
   "execution_count": null,
   "id": "712d34ba",
   "metadata": {},
   "outputs": [],
   "source": [
    "shape_new.boundary.plot(linewidth=0.5,  edgecolor='black', figsize=(6,6))\n",
    "#plt.rcParams['figure.dpi'] = 300\n",
    "#plt.rcParams['savefig.dpi'] = 300\n",
    "#plt.savefig('res/boundaries_after2010.pdf')"
   ]
  },
  {
   "cell_type": "code",
   "execution_count": null,
   "id": "81744fbb",
   "metadata": {},
   "outputs": [],
   "source": [
    "# capitalise unit names\n",
    "names_shape_new = shape_new['ADM1_EN'].values\n",
    "shape_new['ADM1_EN'] =  np.array([names_shape_new[i].upper() for i in range(len(names_shape_new))])\n",
    "shape_new.head(5)"
   ]
  },
  {
   "cell_type": "code",
   "execution_count": null,
   "id": "d02aef52",
   "metadata": {},
   "outputs": [],
   "source": [
    "names_shape_new = shape_new['ADM1_EN'].values\n",
    "names_shape_new"
   ]
  },
  {
   "cell_type": "code",
   "execution_count": null,
   "id": "83233ebd",
   "metadata": {},
   "outputs": [],
   "source": [
    "# capitalise unit names\n",
    "names_shape_old = shape_old['ADM1_EN'].values\n",
    "shape_old['ADM1_EN'] =  np.array([names_shape_old[i].upper() for i in range(len(names_shape_old))])\n",
    "shape_old.head(5)"
   ]
  },
  {
   "cell_type": "code",
   "execution_count": null,
   "id": "9793afbf",
   "metadata": {},
   "outputs": [],
   "source": [
    "names_shape_old = shape_old['ADM1_EN'].values\n",
    "names_shape_old"
   ]
  },
  {
   "cell_type": "markdown",
   "id": "37f993e0",
   "metadata": {},
   "source": [
    "# Malaria data"
   ]
  },
  {
   "cell_type": "code",
   "execution_count": null,
   "id": "0d012764",
   "metadata": {},
   "outputs": [],
   "source": [
    "infections_new = pd.read_csv(\"../data/dhs/KE_prev_data_admin1_after2010.csv\")\n",
    "infections_new = infections_new[['unit', 'usage', 'num_rdt', 'num_rdt_positive', 'prev_estimate']]\n",
    "infections_new = infections_new.rename({'unit': 'area'}, axis='columns')\n",
    "infections_new = infections_new.sort_values(by=['area'])\n",
    "infections_new.head(5)"
   ]
  },
  {
   "cell_type": "code",
   "execution_count": null,
   "id": "deae12ff",
   "metadata": {},
   "outputs": [],
   "source": [
    "infections_old = pd.read_csv(\"../data/dhs/KE_prev_data_admin1_before2010.csv\")\n",
    "infections_old.head(2)"
   ]
  },
  {
   "cell_type": "code",
   "execution_count": null,
   "id": "1cb3f239",
   "metadata": {},
   "outputs": [],
   "source": [
    "infections_old = infections_old[['unit', 'usage', 'num_rdt', 'num_rdt_positive', 'prev_estimate']]\n",
    "infections_old = infections_old.rename({'unit': 'area'}, axis='columns')\n",
    "infections_old = infections_old.sort_values(by=['area'])\n",
    "infections_old.head(2)"
   ]
  },
  {
   "cell_type": "markdown",
   "id": "8b738d6f",
   "metadata": {},
   "source": [
    "## Merge infections and shape"
   ]
  },
  {
   "cell_type": "markdown",
   "id": "fcdf2fd2",
   "metadata": {},
   "source": [
    "### After 2010"
   ]
  },
  {
   "cell_type": "code",
   "execution_count": null,
   "id": "f54f3e88",
   "metadata": {},
   "outputs": [],
   "source": [
    "names_infections_new = infections_new.area.values\n",
    "shape_new = shape_new.rename({'ADM1_EN': 'area'}, axis='columns')\n",
    "shape_new = shape_new.sort_values(by=['area'])\n",
    "shape_new.head(3)\n",
    "names_shape_new = shape_new['area'].values\n",
    "print(names_infections_new)\n",
    "print(names_shape_new)"
   ]
  },
  {
   "cell_type": "code",
   "execution_count": null,
   "id": "dedd7407",
   "metadata": {},
   "outputs": [],
   "source": [
    "names_shape_new_lst = list(names_shape_new)\n",
    "lst = [names_shape_new_lst[i] not in names_infections_new for i in range(len(names_shape_new))]\n",
    "[i for i in range(len(lst)) if lst[i] == True]"
   ]
  },
  {
   "cell_type": "code",
   "execution_count": null,
   "id": "f3627bae",
   "metadata": {},
   "outputs": [],
   "source": [
    "names_infections_new[[4, 28, 40, 41]]"
   ]
  },
  {
   "cell_type": "code",
   "execution_count": null,
   "id": "4822510f",
   "metadata": {},
   "outputs": [],
   "source": [
    "names_shape_new[4] = 'ELGEYO MARAKWET'\n",
    "names_shape_new[28] = 'MURANGA'\n",
    "names_shape_new[40] = 'THARAKA'\n",
    "names_shape_new[41] = 'TRANS-NZOIA'\n",
    "shape_new['area'] =  names_shape_new"
   ]
  },
  {
   "cell_type": "code",
   "execution_count": null,
   "id": "a91271e5",
   "metadata": {},
   "outputs": [],
   "source": [
    "shape_new = shape_new.merge(infections_new, how='left', left_on='area', right_on='area')\n",
    "shape_new.head(3)"
   ]
  },
  {
   "cell_type": "code",
   "execution_count": null,
   "id": "d62592fc",
   "metadata": {},
   "outputs": [],
   "source": [
    "np.sum(np.isnan(shape_new.num_rdt))"
   ]
  },
  {
   "cell_type": "code",
   "execution_count": null,
   "id": "d52cacce",
   "metadata": {},
   "outputs": [],
   "source": [
    "s_new = shape_new.rename({'num_rdt': 'n_obs', 'num_rdt_positive': 'y', 'prev_estimate': 'estimate'}, axis='columns')\n",
    "s_new['y'] = round(s_new['y']).astype(int)\n",
    "s_new['n_obs'] = round(s_new['n_obs']).astype(int)\n",
    "s_new.head(3)"
   ]
  },
  {
   "cell_type": "code",
   "execution_count": null,
   "id": "36ea2fe7",
   "metadata": {},
   "outputs": [],
   "source": [
    "fig, ax = plt.subplots(1, 4, figsize=(12,6))\n",
    "s_new.plot(column=\"y\", ax=ax[0], legend=True)\n",
    "s_new.plot(column=\"n_obs\", ax=ax[1], legend=True)\n",
    "s_new.plot(column=\"estimate\", ax=ax[2], legend=True)\n",
    "s_new.plot(column=\"usage\", ax=ax[3], legend=True)\n",
    "ax[0].set_title( 'y')\n",
    "ax[1].set_title( 'n_obs')\n",
    "ax[2].set_title( 'estimate')\n",
    "ax[3].set_title( 'usage')"
   ]
  },
  {
   "cell_type": "code",
   "execution_count": null,
   "id": "940d0bab",
   "metadata": {},
   "outputs": [],
   "source": [
    "del shape_new\n",
    "del infections_new"
   ]
  },
  {
   "cell_type": "markdown",
   "id": "9e104013",
   "metadata": {},
   "source": [
    "### Before 2010"
   ]
  },
  {
   "cell_type": "code",
   "execution_count": null,
   "id": "29295f2d",
   "metadata": {},
   "outputs": [],
   "source": [
    "names_infections_old = infections_old.area.values\n",
    "names_infections_old"
   ]
  },
  {
   "cell_type": "code",
   "execution_count": null,
   "id": "da66f2a7",
   "metadata": {},
   "outputs": [],
   "source": [
    "shape_old = shape_old.rename({'ADM1_EN': 'area'}, axis='columns')\n",
    "shape_old = shape_old.sort_values(by=['area'])\n",
    "shape_old.head(3)"
   ]
  },
  {
   "cell_type": "code",
   "execution_count": null,
   "id": "e1248a11",
   "metadata": {},
   "outputs": [],
   "source": [
    "names_shape_old = shape_old['area'].values\n",
    "names_shape_old"
   ]
  },
  {
   "cell_type": "code",
   "execution_count": null,
   "id": "ff9c596c",
   "metadata": {},
   "outputs": [],
   "source": [
    "names_shape_old_lst = list(names_shape_old)\n",
    "lst = [names_shape_old_lst[i] not in names_infections_old for i in range(len(names_shape_old))]\n",
    "[i for i in range(len(lst)) if lst[i] == True]"
   ]
  },
  {
   "cell_type": "code",
   "execution_count": null,
   "id": "85e40022",
   "metadata": {},
   "outputs": [],
   "source": [
    "shape_old = shape_old.merge(infections_old, how='left', left_on='area', right_on='area')\n",
    "shape_old.head(3)"
   ]
  },
  {
   "cell_type": "code",
   "execution_count": null,
   "id": "99eea4ec",
   "metadata": {},
   "outputs": [],
   "source": [
    "print(np.sum(np.isnan(shape_old.num_rdt)))\n",
    "print(np.sum(np.isnan(shape_old.num_rdt_positive)))"
   ]
  },
  {
   "cell_type": "code",
   "execution_count": null,
   "id": "3817bb23",
   "metadata": {},
   "outputs": [],
   "source": [
    "s_old = shape_old.rename({'num_rdt': 'n_obs', 'num_rdt_positive': 'y', 'prev_estimate': 'estimate'}, axis='columns')\n",
    "s_old['y'] = round(s_old['y']).astype(int)\n",
    "s_old['n_obs'] = round(s_old['n_obs']).astype(int)\n",
    "s_old.head(3)"
   ]
  },
  {
   "cell_type": "code",
   "execution_count": null,
   "id": "ca945e60",
   "metadata": {},
   "outputs": [],
   "source": [
    "fig, ax = plt.subplots(1, 4, figsize=(12,6))\n",
    "s_old.plot(column=\"y\", ax=ax[0], legend=True)\n",
    "s_old.plot(column=\"n_obs\", ax=ax[1], legend=True)\n",
    "s_old.plot(column=\"estimate\", ax=ax[2], legend=True)\n",
    "s_old.plot(column=\"usage\", ax=ax[3], legend=True)\n",
    "ax[0].set_title( 'y')\n",
    "ax[1].set_title( 'n_obs')\n",
    "ax[2].set_title( 'estimate')\n",
    "ax[3].set_title( 'usage')"
   ]
  },
  {
   "cell_type": "code",
   "execution_count": null,
   "id": "c3f29243",
   "metadata": {},
   "outputs": [],
   "source": [
    "del shape_old\n",
    "del infections_old"
   ]
  },
  {
   "cell_type": "markdown",
   "id": "ff213633",
   "metadata": {},
   "source": [
    "## Computational grid"
   ]
  },
  {
   "cell_type": "code",
   "execution_count": null,
   "id": "a8344038",
   "metadata": {},
   "outputs": [],
   "source": [
    "x_min, x_max, y_min, y_max = 33.4, 42.1, -4.8, 5.6\n",
    "dy = y_max - y_min\n",
    "dx = x_max - x_min\n",
    "factor = dy / dx\n",
    "n_x = 40\n",
    "n_y = math.ceil(n_x * factor)\n",
    "print(n_x)\n",
    "print(n_y)\n",
    "print(n_x * n_y)\n",
    "\n",
    "x_grid = np.linspace(x_min, x_max, n_x, endpoint=True)\n",
    "y_grid = np.linspace(y_min, y_max, n_y, endpoint=True)\n",
    "\n",
    "# full coordinate arrays\n",
    "x_coords, y_coords = np.meshgrid(x_grid, y_grid)\n",
    "x_coords = x_coords.reshape(-1)\n",
    "y_coords = y_coords.reshape(-1)\n",
    "\n",
    "df = pd.DataFrame({'Latitude': y_coords, 'Longitude': x_coords})\n",
    "\n",
    "grid_pts = geopandas.GeoDataFrame(df, geometry=geopandas.points_from_xy(df.Longitude, df.Latitude))\n",
    "\n",
    "x = jnp.array([x_coords, y_coords]).transpose((1, 0))\n",
    "print(x.shape)"
   ]
  },
  {
   "cell_type": "code",
   "execution_count": null,
   "id": "600e978b",
   "metadata": {},
   "outputs": [],
   "source": [
    "fig, ax = plt.subplots(1, 1, figsize=(6,6))\n",
    "divider = make_axes_locatable(ax)\n",
    "s_new.plot(ax=ax, color='white', edgecolor='black')\n",
    "grid_pts.plot(ax=ax, marker='o', color='red', markersize=2)\n",
    "\n",
    "#plt.rcParams['figure.dpi'] = 300\n",
    "#plt.rcParams['savefig.dpi'] = 300\n",
    "#plt.savefig('res/comp_grid.pdf')"
   ]
  },
  {
   "cell_type": "code",
   "execution_count": null,
   "id": "6a8e7435",
   "metadata": {},
   "outputs": [],
   "source": [
    "def pol_pts(shape, grid_pts):\n",
    "    grid_pts.set_crs(epsg=4326, inplace=True);\n",
    "    grid_pts.crs == shape.crs\n",
    "\n",
    "    n_pol = len(shape.geometry)\n",
    "    n_pts = len(grid_pts.geometry)\n",
    "\n",
    "    pl_pt = np.zeros((n_pol, n_pts), dtype=int)\n",
    "    \n",
    "    pt_which_pol = np.zeros(n_pts, dtype=int)\n",
    "\n",
    "    for i_pol in range(n_pol):\n",
    "        pol = shape.geometry[i_pol]\n",
    "        for j_pts in range(n_pts):\n",
    "            pt = grid_pts.geometry[j_pts]\n",
    "            if pol.contains(pt):\n",
    "                pl_pt[i_pol, j_pts] = 1\n",
    "                pt_which_pol[j_pts] = i_pol + 1 # note the enumeration!\n",
    "                \n",
    "    return([pl_pt, pt_which_pol])"
   ]
  },
  {
   "cell_type": "code",
   "execution_count": null,
   "id": "d2b789d9",
   "metadata": {},
   "outputs": [],
   "source": [
    "pol_pt_new, pt_which_pol_new = pol_pts(s_new, grid_pts)\n",
    "pol_sums_new = np.sum(pol_pt_new, axis=1) # how many points in each polygon\n",
    "print(all(item > 0 for item in pol_sums_new)) # in each polygon there is at least one point\n",
    "grid_pts['pt_which_pol_new'] = pt_which_pol_new\n",
    "grid_pts.head(2)"
   ]
  },
  {
   "cell_type": "code",
   "execution_count": null,
   "id": "155671a0",
   "metadata": {},
   "outputs": [],
   "source": [
    "pol_pt_old, pt_which_pol_old = pol_pts(s_old, grid_pts)\n",
    "pol_sums_old = np.sum(pol_pt_old, axis=1) # how many points in each polygon\n",
    "print(all(item > 0 for item in pol_sums_old)) # in each polygon there is at least one point\n",
    "grid_pts['pt_which_pol_old'] = pt_which_pol_old\n",
    "grid_pts.head(2)"
   ]
  },
  {
   "cell_type": "code",
   "execution_count": null,
   "id": "24b702fe",
   "metadata": {},
   "outputs": [],
   "source": [
    "grid_pts['in_out_new'] = grid_pts['pt_which_pol_new'].apply(lambda x: 'out' if x==0 else 'in')\n",
    "grid_pts['marker_size_new'] = grid_pts['pt_which_pol_new'].apply(lambda x: 1 if x==0 else 12)\n",
    "n_pol_new = len(s_new.geometry)\n",
    "\n",
    "grid_pts['in_out_old'] = grid_pts['pt_which_pol_old'].apply(lambda x: 'out' if x==0 else 'in')\n",
    "grid_pts['marker_size_old'] = grid_pts['pt_which_pol_old'].apply(lambda x: 1 if x==0 else 12)\n",
    "n_pol_old = len(s_old.geometry)"
   ]
  },
  {
   "cell_type": "code",
   "execution_count": null,
   "id": "1d3cc10c",
   "metadata": {},
   "outputs": [],
   "source": [
    "cmap = plt.cm.prism  # define the colormap\n",
    "# extract all colors from the .jet map\n",
    "cmaplist = [cmap(i) for i in range(cmap.N)]\n",
    "# force the first color entry to be grey\n",
    "cmaplist[0] = (.5, .5, .5, 1.0)\n",
    "cmap = matplotlib.colors.LinearSegmentedColormap.from_list('Custom cmap', cmaplist, cmap.N)"
   ]
  },
  {
   "cell_type": "code",
   "execution_count": null,
   "id": "979173d9",
   "metadata": {},
   "outputs": [],
   "source": [
    "fig, (ax1, ax2) = plt.subplots(ncols=2, sharex=True, sharey=True)\n",
    "divider = make_axes_locatable(ax)\n",
    "\n",
    "# define the bins and normalize\n",
    "bounds_old = np.linspace(min(pt_which_pol_old), max(pt_which_pol_old), n_pol_old)\n",
    "norm_old = matplotlib.colors.BoundaryNorm(bounds_old, cmap.N)\n",
    "s_old.plot(ax=ax1, color='white', edgecolor='black')\n",
    "grid_pts.plot(ax=ax1, marker='o', column='pt_which_pol_old', markersize='marker_size_old', cmap=cmap)\n",
    "ax1.title.set_text('Before 2010')\n",
    "\n",
    "# define the bins and normalize\n",
    "bounds_new = np.linspace(min(pt_which_pol_new), max(pt_which_pol_new), n_pol_new)\n",
    "norm_new = matplotlib.colors.BoundaryNorm(bounds_new, cmap.N)\n",
    "s_new.plot(ax=ax2, color='white', edgecolor='black')\n",
    "grid_pts.plot(ax=ax2, marker='o', column='pt_which_pol_new', markersize='marker_size_new', cmap=cmap)\n",
    "ax2.title.set_text('After 2010')\n",
    "\n",
    "#plt.show();\n",
    "#plt.rcParams['figure.dpi'] = 300\n",
    "#plt.rcParams['savefig.dpi'] = 300\n",
    "#plt.savefig('res/grid_polygons_before_after.pdf')"
   ]
  },
  {
   "cell_type": "code",
   "execution_count": null,
   "id": "c3b2d6bf",
   "metadata": {},
   "outputs": [],
   "source": [
    "fig, ax1 = plt.subplots(1, 1, sharex=True, sharey=True, figsize=(6,6))\n",
    "divider = make_axes_locatable(ax)\n",
    "\n",
    "# define the bins and normalize\n",
    "bounds_old = np.linspace(min(pt_which_pol_old), max(pt_which_pol_old), n_pol_old)\n",
    "norm_old = matplotlib.colors.BoundaryNorm(bounds_old, cmap.N)\n",
    "s_old.plot(ax=ax1, color='white', edgecolor='black')\n",
    "grid_pts.plot(ax=ax1, marker='o', column='pt_which_pol_old', markersize='marker_size_old', cmap=cmap)\n",
    "#ax1.title.set_text('Before 2010')\n",
    "\n",
    "# define the bins and normalize\n",
    "#bounds_new = np.linspace(min(pt_which_pol_new), max(pt_which_pol_new), n_pol_new)\n",
    "#norm_new = matplotlib.colors.BoundaryNorm(bounds_new, cmap.N)\n",
    "#s_new.plot(ax=ax2, color='white', edgecolor='black')\n",
    "#grid_pts.plot(ax=ax2, marker='o', column='pt_which_pol_new', markersize='marker_size_new', cmap=cmap)\n",
    "#ax2.title.set_text('After 2010')\n",
    "\n",
    "#plt.rcParams['figure.dpi'] = 300\n",
    "#plt.rcParams['savefig.dpi'] = 300\n",
    "#plt.savefig('res/grid_polygons_before.pdf')"
   ]
  },
  {
   "cell_type": "code",
   "execution_count": null,
   "id": "27fd734c",
   "metadata": {},
   "outputs": [],
   "source": [
    "fig, ax2 = plt.subplots(1, 1, sharex=True, sharey=True, figsize=(6,6))\n",
    "divider = make_axes_locatable(ax)\n",
    "\n",
    "# define the bins and normalize\n",
    "bounds_new = np.linspace(min(pt_which_pol_new), max(pt_which_pol_new), n_pol_new)\n",
    "norm_new = matplotlib.colors.BoundaryNorm(bounds_new, cmap.N)\n",
    "s_new.plot(ax=ax2, color='white', edgecolor='black')\n",
    "grid_pts.plot(ax=ax2, marker='o', column='pt_which_pol_new', markersize='marker_size_new', cmap=cmap)\n",
    "#ax2.title.set_text('After 2010')\n",
    "\n",
    "#plt.rcParams['figure.dpi'] = 300\n",
    "#plt.rcParams['savefig.dpi'] = 300\n",
    "#plt.savefig('res/grid_polygons_after.pdf')"
   ]
  },
  {
   "cell_type": "code",
   "execution_count": null,
   "id": "fa6a55c1",
   "metadata": {},
   "outputs": [],
   "source": [
    "s_old.head(3)"
   ]
  },
  {
   "cell_type": "code",
   "execution_count": null,
   "id": "c80b6633",
   "metadata": {},
   "outputs": [],
   "source": [
    "s_new.head(3)"
   ]
  },
  {
   "cell_type": "code",
   "execution_count": null,
   "id": "a7120982",
   "metadata": {},
   "outputs": [],
   "source": [
    "type(s_new)"
   ]
  },
  {
   "cell_type": "code",
   "execution_count": null,
   "id": "c305a577",
   "metadata": {},
   "outputs": [],
   "source": [
    "s = pd.concat([s_old, s_new])\n",
    "s.head()\n",
    "print(s.shape)"
   ]
  },
  {
   "cell_type": "markdown",
   "id": "3bead23d",
   "metadata": {},
   "source": [
    "# Traditional prevalence model"
   ]
  },
  {
   "cell_type": "code",
   "execution_count": null,
   "id": "472a22dd",
   "metadata": {},
   "outputs": [],
   "source": [
    "# draw GP samples on the grid\n",
    "\n",
    "def dist_euclid(x, z):\n",
    "    x = jnp.array(x) \n",
    "    z = jnp.array(z)\n",
    "    if len(x.shape)==1:\n",
    "        x = x.reshape(x.shape[0], 1)\n",
    "    if len(z.shape)==1:\n",
    "        z = x.reshape(x.shape[0], 1)\n",
    "    n_x, m = x.shape\n",
    "    n_z, m_z = z.shape\n",
    "    assert m == m_z\n",
    "    delta = jnp.zeros((n_x,n_z))\n",
    "    for d in jnp.arange(m):\n",
    "        x_d = x[:,d]\n",
    "        z_d = z[:,d]\n",
    "        delta += (x_d[:,jnp.newaxis] - z_d)**2\n",
    "    return jnp.sqrt(delta)\n",
    "\n",
    "\n",
    "def exp_sq_kernel(x, z, var, length, noise, jitter=1.0e-4):\n",
    "    dist = dist_euclid(x, z)\n",
    "    deltaXsq = jnp.power(dist/ length, 2.0)\n",
    "    k = var * jnp.exp(-0.5 * deltaXsq)\n",
    "    k += (noise + jitter) * jnp.eye(x.shape[0])\n",
    "    return k"
   ]
  },
  {
   "cell_type": "code",
   "execution_count": null,
   "id": "efd0fe26",
   "metadata": {},
   "outputs": [],
   "source": [
    "def M_g(M, g):\n",
    "    '''\n",
    "    - $M$ is a matrix with binary entries $m_{ij},$ showing whether point $j$ is in polygon $i$\n",
    "    - $g$ is a vector of GP draws over grid\n",
    "    - $maltmul(M, g)$ gives a vector of sums over each polygon\n",
    "    '''\n",
    "    M = jnp.array(M)\n",
    "    g = jnp.array(g).T\n",
    "    return(jnp.matmul(M, g))"
   ]
  },
  {
   "cell_type": "code",
   "execution_count": null,
   "id": "de44eb62",
   "metadata": {},
   "outputs": [],
   "source": [
    "args = {'n_obs': jnp.array(s.n_obs),\n",
    "        \"x\": x,\n",
    "        \"gp_kernel\": exp_sq_kernel,\n",
    "        \"batch_size\": 1,\n",
    "        \"jitter\": 1e-4,\n",
    "        \"M_old\": pol_pt_old,\n",
    "        \"M_new\": pol_pt_new,\n",
    "}"
   ]
  },
  {
   "cell_type": "code",
   "execution_count": null,
   "id": "d0ba8ee7",
   "metadata": {},
   "outputs": [],
   "source": [
    "def prev_model_gp_aggr(args, y=None):\n",
    "    \n",
    "    n_obs = args['n_obs']\n",
    "    x = args[\"x\"]\n",
    "    gp_kernel=args[\"gp_kernel\"] \n",
    "    jitter = args[\"jitter\"]\n",
    "    M_old = args[\"M_old\"]\n",
    "    M_new = args[\"M_new\"]\n",
    "    \n",
    "    # random effect - aggregated GP\n",
    "    length = numpyro.sample(\"kernel_length\", dist.InverseGamma(3,3))    \n",
    "    var = numpyro.sample(\"kernel_var\", dist.HalfNormal(0.05))    \n",
    "    k = gp_kernel(x, x, var, length, jitter)\n",
    "    f = numpyro.sample(\"f\", dist.MultivariateNormal(loc=jnp.zeros(x.shape[0]), covariance_matrix=k))\n",
    "\n",
    "    # aggregate f into gp_aggr according to indexing of (point in polygon)\n",
    "    gp_aggr_old = numpyro.deterministic('gp_aggr_old', M_g(M_old, f))\n",
    "    gp_aggr_new = numpyro.deterministic('gp_aggr_new', M_g(M_new, f))\n",
    "    gp_aggr = numpyro.deterministic('gp_aggr', jnp.concatenate([gp_aggr_old, gp_aggr_new]))\n",
    "    \n",
    "    # fixed effects\n",
    "    b0 = numpyro.sample('b0', dist.Normal(0, 1))\n",
    "    \n",
    "    # linear predictor\n",
    "    lp = b0 + gp_aggr\n",
    "    theta = numpyro.deterministic(\"theta\", jax.nn.sigmoid(lp))\n",
    "     \n",
    "    numpyro.sample(\"obs\", dist.BinomialLogits(total_count = n_obs, logits=lp), obs=y)"
   ]
  },
  {
   "cell_type": "code",
   "execution_count": null,
   "id": "0e32534c",
   "metadata": {},
   "outputs": [],
   "source": [
    "rng_key, rng_key_predict = random.split(random.PRNGKey(1))\n",
    "prev_predictive = Predictive(prev_model_gp_aggr, num_samples=args[\"batch_size\"])\n",
    "gp_draws = prev_predictive(rng_key_predict, args)['f']"
   ]
  },
  {
   "cell_type": "code",
   "execution_count": null,
   "id": "dce404b6",
   "metadata": {},
   "outputs": [],
   "source": [
    "rng_key, rng_key_predict = random.split(random.PRNGKey(3))\n",
    "kernel = NUTS(prev_model_gp_aggr)\n",
    "n_warm = 200\n",
    "n_samps = 1000\n",
    "mcmc_gp_aggr = MCMC(kernel, num_warmup=n_warm, num_samples=n_samps)"
   ]
  },
  {
   "cell_type": "code",
   "execution_count": null,
   "id": "3a6c7244",
   "metadata": {},
   "outputs": [],
   "source": [
    "# inference\n",
    "run_mcmc = False\n",
    "\n",
    "if run_mcmc:\n",
    "    start = time.time()\n",
    "    mcmc_gp_aggr.run(rng_key, args, y = jnp.array(s.y))\n",
    "    t_elapsed = time.time() - start"
   ]
  },
  {
   "cell_type": "code",
   "execution_count": null,
   "id": "062cf6f8",
   "metadata": {},
   "outputs": [],
   "source": [
    "# save MCMC\n",
    "#with open('MCMCs/prev_model_gp_aggr_joint_{}iter_lsIG3_3_20230214'.format(n_samps), 'wb') as file:\n",
    "#    dill.dump(mcmc_gp_aggr, file)"
   ]
  },
  {
   "cell_type": "code",
   "execution_count": null,
   "id": "780fc3d9",
   "metadata": {},
   "outputs": [],
   "source": [
    "# load MCMC\n",
    "#with open('MCMCs/prev_model_gp_aggr_joint_{}iter_lsIG3_3_20230214'.format(n_samps), 'rb') as file:\n",
    "#    mcmc_gp_agg = dill.load(file)"
   ]
  },
  {
   "cell_type": "code",
   "execution_count": null,
   "id": "9d10dabc",
   "metadata": {},
   "outputs": [],
   "source": [
    "if run_mcmc:\n",
    "    prev_samples_aggr = mcmc_gp_aggr.get_samples()\n",
    "    mcmc_gp_aggr.print_summary(exclude_deterministic=False)\n",
    "    \n",
    "    print(\"\\nMCMC elapsed time:\", round(t_elapsed), \"s\")\n",
    "    print(\"\\nMCMC elapsed time:\", round(t_elapsed/60), \"min\")\n",
    "    print(\"\\nMCMC elapsed time:\", round(t_elapsed/(60*60)), \"h\")\n",
    "\n",
    "    ss = numpyro.diagnostics.summary(mcmc_gp_aggr.get_samples(group_by_chain=True))\n",
    "    r = np.mean(ss['gp_aggr']['n_eff'])\n",
    "    print(\"Average ESS for all aggGP effects : \" + str(round(r)))\n",
    "\n",
    "    r = np.mean(ss['gp_aggr_old']['n_eff'])\n",
    "    print(\"Average ESS for all aggGP-old effects : \" + str(round(r)))\n",
    "    print(\"Max r_hat for all aggGP-old effects : \" + str(round(np.max(ss['gp_aggr_old']['r_hat']),2)))\n",
    "\n",
    "    r = np.mean(ss['gp_aggr_new']['n_eff'])\n",
    "    print(\"Average ESS for all aggGP-new effects : \" + str(round(r)))\n",
    "    print(\"Max r_hat for all aggGP-new effects : \" + str(round(np.max(ss['gp_aggr_new']['r_hat']),2)))\n",
    "    \n",
    "    print(\"kernel_length R-hat : \" + str(round(ss['kernel_length']['r_hat'],2)))\n",
    "    print(\"kernel_var R-hat : \" + str(round(ss['kernel_var']['r_hat'],2)))"
   ]
  },
  {
   "cell_type": "code",
   "execution_count": null,
   "id": "e968aef5",
   "metadata": {},
   "outputs": [],
   "source": [
    "import arviz as az\n",
    "prev_samples_az_gp = az.from_numpyro(mcmc_gp_aggr)\n",
    "az.plot_trace(prev_samples_az_gp,  var_names=(\"kernel_length\"))\n",
    "\n",
    "#plt.rcParams['figure.dpi'] = 300\n",
    "#plt.rcParams['savefig.dpi'] = 300\n",
    "#plt.savefig('res/arviz_length.pdf')\n",
    "\n",
    "az.plot_trace(prev_samples_az_gp,  var_names=(\"kernel_var\"))\n",
    "\n",
    "#plt.rcParams['figure.dpi'] = 300\n",
    "#plt.rcParams['savefig.dpi'] = 300\n",
    "#plt.savefig('res/arviz_var.pdf')"
   ]
  },
  {
   "cell_type": "code",
   "execution_count": null,
   "id": "28bd56d8",
   "metadata": {},
   "outputs": [],
   "source": [
    "# posterior predictive\n",
    "prev_posterior_predictive_gp = Predictive(prev_model_gp_aggr, prev_samples_aggr)(random.PRNGKey(1), args)\n",
    "\n",
    "theta_samps_gp = prev_posterior_predictive_gp['theta']"
   ]
  },
  {
   "cell_type": "code",
   "execution_count": null,
   "id": "b55cf0a5",
   "metadata": {},
   "outputs": [],
   "source": [
    "theta_samps_gp.shape\n",
    "theta_mean_gp = theta_samps_gp.mean(axis=0)\n",
    "bci_gp_25 = np.quantile(theta_samps_gp, 0.25, axis=0)\n",
    "bci_gp_75 = np.quantile(theta_samps_gp, 0.75, axis=0)\n",
    "\n",
    "s['theta_gp'] = theta_mean_gp\n",
    "\n",
    "theta_observed = s['estimate']\n",
    "theta_estimated_gp = s['theta_gp']\n",
    "\n",
    "_max = np.max([theta_observed, theta_estimated_gp])\n",
    "_min = np.min([theta_observed, theta_estimated_gp])\n",
    "\n",
    "n_old, _= s_old.shape\n",
    "n_new, _= s_new.shape\n",
    "\n",
    "fig, ax = plt.subplots(1, 2, figsize=(12,6))\n",
    "\n",
    "s[0:n_old].plot(column=\"estimate\", ax=ax[0], legend=True, cmap='plasma', vmin=_min, vmax =_max)\n",
    "s[0:n_old].plot(column=\"theta_gp\", ax=ax[1], legend=True, cmap='plasma', vmin=_min, vmax =_max)\n",
    "\n",
    "ax[0].set_title( 'Before: Observed prevalence')\n",
    "ax[1].set_title( 'Before: Estimated prevalence (aggregated GP)')"
   ]
  },
  {
   "cell_type": "code",
   "execution_count": null,
   "id": "93dd4951",
   "metadata": {},
   "outputs": [],
   "source": [
    "fig, ax = plt.subplots(1, 2, figsize=(12,6))\n",
    "\n",
    "s[n_old:(n_old + n_new)].plot(column=\"estimate\", ax=ax[0], legend=True, cmap='plasma', vmin=_min, vmax =_max)\n",
    "s[n_old:(n_old + n_new)].plot(column=\"theta_gp\", ax=ax[1], legend=True, cmap='plasma', vmin=_min, vmax =_max)\n",
    "\n",
    "ax[0].set_title( 'After: Observed prevalence')\n",
    "ax[1].set_title( 'After: Estimated prevalence (aggregated GP)')"
   ]
  },
  {
   "cell_type": "code",
   "execution_count": null,
   "id": "f5a755a7",
   "metadata": {},
   "outputs": [],
   "source": [
    "fig, ax = plt.subplots(1, 2, figsize=(10,5))\n",
    "\n",
    "ax[0].scatter(s[0:n_old].estimate, s[0:n_old].theta_gp)\n",
    "ax[0].set_ylim(_min-0.02, _max+0.02)\n",
    "ax[0].set_xlim(_min-0.02, _max+0.02)\n",
    "ax[0].axline((1, 1), slope=1, ls=\"--\", c=\".3\")\n",
    "ax[0].set_xlabel(\"Observed prevalence\")\n",
    "ax[0].set_ylabel(\"Estimated prevalence\")\n",
    "ax[0].set_title(\"Before 2010\")\n",
    "\n",
    "ax[1].scatter(s[n_old:(n_old + n_new)].estimate, s[n_old:(n_old + n_new)].theta_gp)\n",
    "ax[1].set_ylim(_min-0.02, _max+0.02)\n",
    "ax[1].set_xlim(_min-0.02, _max+0.02)\n",
    "ax[1].axline((1, 1), slope=1, ls=\"--\", c=\".3\")\n",
    "ax[1].set_xlabel(\"Observed prevalence\")\n",
    "ax[1].set_ylabel(\"Estimated prevalence, aggGP\")\n",
    "ax[1].set_title(\"After 2010\")\n",
    "\n",
    "#plt.rcParams['figure.dpi'] = 300\n",
    "#plt.rcParams['savefig.dpi'] = 300\n",
    "#plt.savefig('res/est_obs_gp.pdf')"
   ]
  },
  {
   "cell_type": "markdown",
   "id": "1ecf1ba7",
   "metadata": {},
   "source": [
    "# Train VAE"
   ]
  },
  {
   "cell_type": "code",
   "execution_count": null,
   "id": "cced07c7",
   "metadata": {},
   "outputs": [],
   "source": [
    "args = {'n_obs': jnp.array(s.n_obs),\n",
    "        \"x\": x,\n",
    "        \"gp_kernel\": exp_sq_kernel,\n",
    "        \"jitter\": 1e-4,\n",
    "        \"M_old\": pol_pt_old,\n",
    "        \"M_new\": pol_pt_new,\n",
    "\n",
    "        # VAE training\n",
    "        \"rng_key\": random.PRNGKey(5),\n",
    "        \"num_epochs\": 20, \n",
    "        #\"learning_rate\": 1.0e-3, \n",
    "        \"learning_rate\": 0.0005, \n",
    "        \"batch_size\": 100, \n",
    "        \"hidden_dim\": 50, \n",
    "        \"z_dim\": 40, \n",
    "        \"num_train\": 100,\n",
    "        \"num_test\":100,\n",
    "        \"vae_var\": 1\n",
    "}"
   ]
  },
  {
   "cell_type": "code",
   "execution_count": null,
   "id": "531e3c51",
   "metadata": {},
   "outputs": [],
   "source": [
    "def gp_aggr(args):\n",
    "    \n",
    "    x = args[\"x\"]\n",
    "    gp_kernel=args[\"gp_kernel\"] \n",
    "    jitter = args[\"jitter\"]\n",
    "    M_old = args[\"M_old\"]\n",
    "    M_new = args[\"M_new\"]\n",
    "    \n",
    "    # random effect - aggregated GP\n",
    "    length = numpyro.sample(\"kernel_length\", dist.InverseGamma(3,3))        \n",
    "    var = numpyro.sample(\"kernel_var\", dist.HalfNormal(0.05))\n",
    "    k = gp_kernel(x, x, var, length, jitter)\n",
    "    f = numpyro.sample(\"f\", dist.MultivariateNormal(loc=jnp.zeros(x.shape[0]), covariance_matrix=k))    \n",
    "    \n",
    "    # aggregate f into gp_aggr according to indexing of (point in polygon)\n",
    "    gp_aggr_old = numpyro.deterministic('gp_aggr_old', M_g(M_old, f))\n",
    "    gp_aggr_new = numpyro.deterministic('gp_aggr_new', M_g(M_new, f))\n",
    "    gp_aggr = numpyro.deterministic('gp_aggr', jnp.concatenate([gp_aggr_old, gp_aggr_new]))"
   ]
  },
  {
   "cell_type": "code",
   "execution_count": null,
   "id": "a7cd5f98",
   "metadata": {},
   "outputs": [],
   "source": [
    "# aggGP: prior predictive\n",
    "\n",
    "rng_key, rng_key_ = random.split(random.PRNGKey(4))\n",
    "agg_gp_predictive = Predictive(gp_aggr, num_samples=5)\n",
    "agg_gp_preds = agg_gp_predictive(rng_key_, args)\n",
    "agg_gp_draws = agg_gp_preds['gp_aggr']"
   ]
  },
  {
   "cell_type": "code",
   "execution_count": null,
   "id": "d079e833",
   "metadata": {},
   "outputs": [],
   "source": [
    "agg_gp_draws.shape"
   ]
  },
  {
   "cell_type": "code",
   "execution_count": null,
   "id": "6c2eda29",
   "metadata": {},
   "outputs": [],
   "source": [
    "s_old_plot = s[0:n_old].copy()\n",
    "\n",
    "fig, axs = plt.subplots(1, 5, figsize=(20, 5))\n",
    "\n",
    "for i in range(5):\n",
    "    nm = 'gp_aggr_' + str(i)\n",
    "    s_old_plot[nm] = agg_gp_draws[i,0:n_old]\n",
    "    s_old_plot.plot(column=nm, ax=axs[i], legend=True)\n",
    "    axs[i].set_title( 'aggGP-prior' + str(i))"
   ]
  },
  {
   "cell_type": "code",
   "execution_count": null,
   "id": "4097fb0f",
   "metadata": {},
   "outputs": [],
   "source": [
    "s_new_plot = s[n_old:(n_old + n_new)].copy()\n",
    "\n",
    "fig, axs = plt.subplots(1, 5, figsize=(20, 5))\n",
    "\n",
    "for i in range(5):\n",
    "    nm = 'gp_aggr_' + str(i)\n",
    "    s_new_plot[nm] = agg_gp_draws[i,n_old:(n_old + n_new)]\n",
    "    s_new_plot.plot(column=nm, ax=axs[i], legend=True)\n",
    "    axs[i].set_title( 'aggGP-prior' + str(i))"
   ]
  },
  {
   "cell_type": "code",
   "execution_count": null,
   "id": "4a6d07e9",
   "metadata": {},
   "outputs": [],
   "source": [
    "def vae_encoder(hidden_dim, z_dim):\n",
    "    return stax.serial(\n",
    "        stax.Dense(hidden_dim, W_init=stax.randn()),\n",
    "        stax.Elu,\n",
    "        stax.FanOut(2),\n",
    "        stax.parallel(\n",
    "            stax.Dense(z_dim, W_init=stax.randn()), # mean\n",
    "            stax.serial(stax.Dense(z_dim, W_init=stax.randn()), stax.Exp), # std -- i.e. diagonal covariance\n",
    "        ),\n",
    "    )\n",
    "\n",
    "\n",
    "def vae_decoder( hidden_dim, out_dim):\n",
    "    return stax.serial(\n",
    "        stax.Dense(hidden_dim, W_init=stax.randn()),\n",
    "        stax.Elu,\n",
    "        stax.Dense(out_dim, W_init=stax.randn())\n",
    "    )\n",
    "\n",
    "def vae_model(batch, hidden_dim, z_dim):\n",
    "    batch = jnp.reshape(batch, (batch.shape[0], -1))\n",
    "    batch_dim, out_dim = jnp.shape(batch)\n",
    "    decode = numpyro.module(\"decoder\", vae_decoder( hidden_dim, out_dim), (batch_dim, z_dim))\n",
    "    z = numpyro.sample(\"z\", dist.Normal(jnp.zeros((z_dim,)), jnp.ones((z_dim,))))\n",
    "    gen_loc = decode(z)    \n",
    "    numpyro.sample(\"obs\", dist.Normal(gen_loc, args[\"vae_var\"]), obs=batch)\n",
    "    \n",
    "\n",
    "def vae_guide(batch, hidden_dim,  z_dim):\n",
    "    batch = jnp.reshape(batch, (batch.shape[0], -1))\n",
    "    batch_dim, out_dim = jnp.shape(batch)\n",
    "    encode = numpyro.module(\"encoder\", vae_encoder(hidden_dim, z_dim), (batch_dim, out_dim))\n",
    "    z_loc, z_std = encode(batch)\n",
    "    z = numpyro.sample(\"z\", dist.Normal(z_loc, z_std))\n",
    "    return z"
   ]
  },
  {
   "cell_type": "code",
   "execution_count": null,
   "id": "b9340ca9",
   "metadata": {},
   "outputs": [],
   "source": [
    "@jit\n",
    "def epoch_train(rng_key, svi_state, num_train):\n",
    "\n",
    "    def body_fn(i, val):\n",
    "        rng_key_i = random.fold_in(rng_key, i) \n",
    "        rng_key_i, rng_key_ls, rng_key_var, rng_key_noise = random.split(rng_key_i, 4)\n",
    "        loss_sum, svi_state = val # val -- svi_state\n",
    "        batch = agg_gp_predictive(rng_key_i, args)['gp_aggr']        \n",
    "        svi_state, loss = svi.update(svi_state, batch) \n",
    "        loss_sum += loss / args['batch_size']\n",
    "        return loss_sum, svi_state\n",
    "\n",
    "    return lax.fori_loop(0, num_train, body_fn, (0.0, svi_state)) #fori_loop(lower, upper, body_fun, init_val)\n",
    "\n",
    "@jit\n",
    "def eval_test(rng_key, svi_state, num_test):\n",
    "\n",
    "    def body_fn(i, loss_sum):\n",
    "        rng_key_i = random.fold_in(rng_key, i) \n",
    "        rng_key_i, rng_key_ls, rng_key_var, rng_key_noise = random.split(rng_key_i, 4)\n",
    "        batch = agg_gp_predictive(rng_key_i, args)['gp_aggr']\n",
    "        loss = svi.evaluate(svi_state, batch) / args['batch_size']\n",
    "        loss_sum += loss\n",
    "        return loss_sum\n",
    "\n",
    "    loss = lax.fori_loop(0, num_test, body_fn, 0.0)\n",
    "    loss = loss / num_test\n",
    "\n",
    "    return loss"
   ]
  },
  {
   "cell_type": "code",
   "execution_count": null,
   "id": "d45ead0f",
   "metadata": {},
   "outputs": [],
   "source": [
    "adam = optim.Adam(step_size=args[\"learning_rate\"])\n",
    "\n",
    "svi = SVI(vae_model, vae_guide, adam, RenyiELBO(), \n",
    "          hidden_dim=args[\"hidden_dim\"], \n",
    "          z_dim=args[\"z_dim\"])\n",
    "\n",
    "rng_key, rng_key_samp, rng_key_init = random.split(args[\"rng_key\"], 3)\n",
    "init_batch = agg_gp_predictive(rng_key_, args)['gp_aggr']\n",
    "svi_state = svi.init(rng_key_init, init_batch)"
   ]
  },
  {
   "cell_type": "code",
   "execution_count": null,
   "id": "07f37c3c",
   "metadata": {},
   "outputs": [],
   "source": [
    "from datetime import datetime\n",
    "\n",
    "now = datetime.now()\n",
    "current_time = now.strftime(\"%H:%M:%S\")\n",
    "print(\"Current Time =\", current_time)\n",
    "\n",
    "test_loss_list = []\n",
    "\n",
    "for i in range(args['num_epochs']):\n",
    "    \n",
    "    rng_key, rng_key_train, rng_key_test, rng_key_infer = random.split(rng_key, 4)\n",
    "    \n",
    "    t_start = time.time()\n",
    "\n",
    "    num_train = 1000\n",
    "    _, svi_state = epoch_train(rng_key_train, svi_state, num_train)\n",
    "\n",
    "    num_test = 1000\n",
    "    test_loss = eval_test(rng_key_test, svi_state, num_test)\n",
    "    test_loss_list += [test_loss]\n",
    "\n",
    "    print(\"Epoch {}: loss = {} ({:.2f} s.)\".format(i, test_loss, time.time() - t_start))\n",
    "    \n",
    "    if math.isnan(test_loss): break"
   ]
  },
  {
   "cell_type": "code",
   "execution_count": null,
   "id": "1c730ac0",
   "metadata": {},
   "outputs": [],
   "source": [
    "plt.figure()\n",
    "plt.plot(np.arange(0, len(test_loss_list), 1), test_loss_list, label=\"test loss\")\n",
    "plt.xlabel(\"epochs\")\n",
    "plt.show()"
   ]
  },
  {
   "cell_type": "code",
   "execution_count": null,
   "id": "0d907f2f",
   "metadata": {},
   "outputs": [],
   "source": [
    "decoder_params = svi.get_params(svi_state)[\"decoder$params\"]\n",
    "args[\"decoder_params\"] = decoder_params"
   ]
  },
  {
   "cell_type": "code",
   "execution_count": null,
   "id": "68235766",
   "metadata": {},
   "outputs": [],
   "source": [
    "args[\"vae_var\"]"
   ]
  },
  {
   "cell_type": "code",
   "execution_count": null,
   "id": "1ff392cf",
   "metadata": {},
   "outputs": [],
   "source": [
    "# Save\n",
    "#with open('decoders/decoder_joint_non_std_var{}_iter20_v2'.format(args[\"vae_var\"]), 'wb') as file:\n",
    "#    pickle.dump(decoder_params, file)"
   ]
  },
  {
   "cell_type": "code",
   "execution_count": null,
   "id": "9558fb42",
   "metadata": {},
   "outputs": [],
   "source": [
    "# Load \n",
    "#with open('decoders/decoder_joint_non_std_var1_iter20_v2', 'rb') as file:\n",
    "#    decoder_params = pickle.load(file)\n",
    "#    print(len(decoder_params))\n",
    "    \n",
    "#args[\"decoder_params\"] = decoder_params"
   ]
  },
  {
   "cell_type": "code",
   "execution_count": null,
   "id": "d3e84afe",
   "metadata": {},
   "outputs": [],
   "source": [
    "N = init_batch.shape[1]\n",
    "print(N)"
   ]
  },
  {
   "cell_type": "code",
   "execution_count": null,
   "id": "3b14798f",
   "metadata": {},
   "outputs": [],
   "source": [
    "decoder_params = svi.get_params(svi_state)[\"decoder$params\"]\n",
    "args[\"decoder_params\"] = decoder_params\n",
    "\n",
    "z_dim, hidden_dim = decoder_params[0][0].shape\n",
    "    \n",
    "decoder_nn = vae_decoder(hidden_dim, N)  \n",
    "\n",
    "# check output of the decoder\n",
    "for i in range(5):\n",
    "    z = jnp.ones(z_dim) + i\n",
    "    print(decoder_nn[1](decoder_params, z)[0:4])"
   ]
  },
  {
   "cell_type": "code",
   "execution_count": null,
   "id": "9046f797",
   "metadata": {},
   "outputs": [],
   "source": [
    "def vae_sample(args):\n",
    "    \n",
    "    decoder_params = args[\"decoder_params\"] \n",
    "    z_dim, hidden_dim = decoder_params[0][0].shape\n",
    "    \n",
    "    z = numpyro.sample(\"z\", dist.Normal(jnp.zeros(z_dim), jnp.ones(z_dim)))\n",
    "    decoder_nn = vae_decoder( hidden_dim, N)  \n",
    "    vae_aggr = numpyro.deterministic(\"vae_aggr\", decoder_nn[1](decoder_params, z)) "
   ]
  },
  {
   "cell_type": "code",
   "execution_count": null,
   "id": "e188a690",
   "metadata": {},
   "outputs": [],
   "source": [
    "rng_key, rng_key_predict = random.split(random.PRNGKey(4))\n",
    "vae_predictive = Predictive(vae_sample, num_samples=12)\n",
    "vae_draws = vae_predictive(rng_key_predict, args)['vae_aggr']"
   ]
  },
  {
   "cell_type": "code",
   "execution_count": null,
   "id": "1a61957c",
   "metadata": {},
   "outputs": [],
   "source": [
    "s_new_plot = s[n_old:(n_old + n_new)].copy()\n",
    "\n",
    "fig, axs = plt.subplots(1, 5, figsize=(20, 5))\n",
    "\n",
    "for i in range(5):\n",
    "    nm = 'gp_aggr_' + str(i)\n",
    "    s_new_plot[nm] = agg_gp_draws[i,n_old:(n_old + n_new)]\n",
    "    s_new_plot.plot(column=nm, ax=axs[i], legend=True)\n",
    "    axs[i].set_title( 'aggGP-prior' + str(i))"
   ]
  },
  {
   "cell_type": "code",
   "execution_count": null,
   "id": "9fd08411",
   "metadata": {},
   "outputs": [],
   "source": [
    "# new\n",
    "fig, axs = plt.subplots(2, 5, figsize=(20, 5))\n",
    "\n",
    "for i in range(5):\n",
    "    nm = 'gp_aggr_' + str(i)\n",
    "    s_new_plot.plot(column=nm, ax=axs[0,i], legend=True)\n",
    "    axs[0,i].set_title( 'gp_aggr-prior' + str(i))\n",
    "    \n",
    "for i in range(5):\n",
    "    nm = 'vae_draw_' + str(i)\n",
    "    s_new_plot[nm] = vae_draws[i,n_old:(n_old + n_new)]\n",
    "    s_new_plot.plot(column=nm, ax=axs[1,i], legend=True)\n",
    "    axs[1,i].set_title( 'VAE-prior' + str(i))"
   ]
  },
  {
   "cell_type": "code",
   "execution_count": null,
   "id": "519a7e4a",
   "metadata": {},
   "outputs": [],
   "source": [
    "(x_coords[1] - x_coords[0]) * (y_coords[40] - y_coords[39])"
   ]
  },
  {
   "cell_type": "code",
   "execution_count": null,
   "id": "32aa10f8",
   "metadata": {},
   "outputs": [],
   "source": [
    "rng_key, rng_key_ = random.split(random.PRNGKey(4))\n",
    "\n",
    "agg_gp_predictive = Predictive(gp_aggr, num_samples=100)\n",
    "agg_gp_preds = agg_gp_predictive(rng_key_, args)\n",
    "agg_gp_draws = agg_gp_preds['gp_aggr']\n",
    "\n",
    "vae_predictive = Predictive(vae_sample, num_samples=100)\n",
    "vae_draws = vae_predictive(rng_key_predict, args)['vae_aggr']\n",
    "\n",
    "m_vae = np.cov(np.transpose(vae_draws))\n",
    "m_gp = np.cov(np.transpose(agg_gp_draws))"
   ]
  },
  {
   "cell_type": "code",
   "execution_count": null,
   "id": "cff36dcb",
   "metadata": {},
   "outputs": [],
   "source": [
    "cmap_choice = 'plasma'\n",
    "\n",
    "#'plasma'\n",
    "#'inferno'\n",
    "fig, axs = plt.subplots(nrows=1, ncols=2, figsize = (8,4))\n",
    "axs[0].imshow(m_gp, cmap=cmap_choice)\n",
    "#axs[0].axis('off')\n",
    "axs[0].set_title('aggrGP covariance matrix')\n",
    "\n",
    "axs[1].imshow(m_vae, cmap=cmap_choice)\n",
    "#axs[1].axis('off')\n",
    "axs[1].set_title('VAE covariance matrix')\n",
    "\n",
    "#plt.rcParams['figure.dpi'] = 300\n",
    "#plt.rcParams['savefig.dpi'] = 300\n",
    "#plt.savefig('res/1d_cov_matrices.pdf')"
   ]
  },
  {
   "cell_type": "markdown",
   "id": "413d7fa4",
   "metadata": {},
   "source": [
    "## Prevalence model - VAE"
   ]
  },
  {
   "cell_type": "code",
   "execution_count": null,
   "id": "a4c93529",
   "metadata": {},
   "outputs": [],
   "source": [
    "def prev_model_vae_aggr(args, y=None):\n",
    "    \n",
    "    n_obs = args['n_obs']\n",
    "    x = args[\"x\"]\n",
    "    \n",
    "    # random effect\n",
    "    decoder_params = args[\"decoder_params\"] \n",
    "    z_dim, hidden_dim = decoder_params[0][0].shape\n",
    "    z = numpyro.sample(\"z\", dist.Normal(jnp.zeros(z_dim), jnp.ones(z_dim)))\n",
    "    decoder_nn = vae_decoder( hidden_dim, N)  \n",
    "    vae_aggr = numpyro.deterministic(\"vae_aggr\", decoder_nn[1](decoder_params, z))\n",
    "    s = numpyro.sample(\"sigma\", dist.HalfNormal(50))\n",
    "    vae = numpyro.deterministic('vae', s * vae_aggr)\n",
    "    \n",
    "    # fixed effects\n",
    "    b0 = numpyro.sample('b0', dist.Normal(0, 1))\n",
    "    lp = b0 + vae\n",
    "    theta = numpyro.deterministic(\"theta\", jax.nn.sigmoid(lp))\n",
    "     \n",
    "    numpyro.sample(\"obs\", dist.BinomialLogits(total_count = n_obs, logits=lp), obs=y)"
   ]
  },
  {
   "cell_type": "code",
   "execution_count": null,
   "id": "c1719b7b",
   "metadata": {},
   "outputs": [],
   "source": [
    "if run_mcmc:\n",
    "\n",
    "    rng_key, rng_key_predict = random.split(random.PRNGKey(6))\n",
    "\n",
    "    # inference\n",
    "    start = time.time()\n",
    "    kernel = NUTS(prev_model_vae_aggr)\n",
    "    mcmc_vae = MCMC(kernel, num_warmup=200, num_samples=1000)\n",
    "    mcmc_vae.run(rng_key, args, y = jnp.array(s.y))\n",
    "    t_elapsed = time.time() - start\n",
    "\n",
    "    prev_samples = mcmc_vae.get_samples()\n",
    "    mcmc_vae.print_summary(exclude_deterministic=False)\n",
    "    \n",
    "    print(\"\\nMCMC elapsed time:\", round(t_elapsed), \"s\")\n",
    "\n",
    "    ss = numpyro.diagnostics.summary(mcmc_vae.get_samples(group_by_chain=True))\n",
    "    r = np.mean(ss['vae_aggr']['n_eff'])\n",
    "    print(\"Average ESS for all aggVAE effects : \" + str(round(r)))\n",
    "    \n",
    "    ss = numpyro.diagnostics.summary(mcmc_vae.get_samples(group_by_chain=True))\n",
    "\n",
    "    ess_old = np.mean(ss['vae_aggr']['n_eff'][0:n_old])\n",
    "    r_hat_old = np.max(ss['vae_aggr']['r_hat'][0:n_old])\n",
    "\n",
    "    ess_new = np.mean(ss['vae_aggr']['n_eff'][n_old:(n_old+n_new)])\n",
    "    r_hat_new = np.max(ss['vae_aggr']['r_hat'][n_old:(n_old+n_new)])\n",
    "\n",
    "    print(\"Average ESS for all aggVAE-old effects : \" + str(round(ess_old)))\n",
    "    print(\"Max r_hat for all aggVAE-old effects : \" + str(round(r_hat_old,2)))\n",
    "\n",
    "    print(\"Average ESS for all aggVAE-new effects : \" + str(round(ess_new)))\n",
    "    print(\"Max r_hat for all aggVAE-new effects : \" + str(round(r_hat_new,2)))\n",
    "\n",
    "    print(\"\\nMCMC elapsed time:\", round(t_elapsed), \"s\")\n",
    "    ss = numpyro.diagnostics.summary(mcmc_vae.get_samples(group_by_chain=True))\n",
    "    r = np.mean(ss['vae_aggr']['n_eff'])\n",
    "    print(\"Average ESS for all VAE-CAR effects : \" + str(round(r)))"
   ]
  },
  {
   "cell_type": "code",
   "execution_count": null,
   "id": "ca33343e",
   "metadata": {},
   "outputs": [],
   "source": [
    "# posterior predictive - 1\n",
    "prev_posterior_predictive_vae = Predictive(prev_model_vae_aggr, prev_samples)(random.PRNGKey(1), args)\n",
    "\n",
    "theta_samps_vae_aggr = prev_posterior_predictive_vae['theta']\n",
    "theta_mean_vae_aggr = theta_samps_vae_aggr.mean(axis=0)\n",
    "bci_vae_aggr_25 = np.quantile(theta_samps_vae_aggr, 0.25, axis=0)\n",
    "bci_vae_aggr_75 = np.quantile(theta_samps_vae_aggr, 0.75, axis=0)\n",
    "\n",
    "s['theta_vae_aggr'] = theta_mean_vae_aggr\n",
    "\n",
    "theta_observed = s['estimate']\n",
    "theta_estimated_vae_aggr = s['theta_vae_aggr']\n",
    "\n",
    "_max = np.max([theta_observed, theta_estimated_vae_aggr])\n",
    "_min = np.min([theta_observed, theta_estimated_vae_aggr])"
   ]
  },
  {
   "cell_type": "code",
   "execution_count": null,
   "id": "8c45a504",
   "metadata": {},
   "outputs": [],
   "source": [
    "fig, ax = plt.subplots(1, 2, figsize=(12,6))\n",
    "\n",
    "s[0:n_old].plot(column=\"estimate\", ax=ax[0], legend=True, cmap='plasma', vmin=_min, vmax =_max)\n",
    "s[0:n_old].plot(column=\"theta_vae_aggr\", ax=ax[1], legend=True, cmap='plasma', vmin=_min, vmax =_max)\n",
    "\n",
    "ax[0].set_title( 'Before: Observed prevalence')\n",
    "ax[1].set_title( 'Before: Estimated prevalence (aggregated VAE)')"
   ]
  },
  {
   "cell_type": "code",
   "execution_count": null,
   "id": "d5648e7c",
   "metadata": {},
   "outputs": [],
   "source": [
    "fig, ax = plt.subplots(1, 2, figsize=(12,6))\n",
    "\n",
    "s[n_old:(n_old + n_new)].plot(column=\"estimate\", ax=ax[0], legend=True, cmap='plasma', vmin=_min, vmax =_max)\n",
    "s[n_old:(n_old + n_new)].plot(column=\"theta_vae_aggr\", ax=ax[1], legend=True, cmap='plasma', vmin=_min, vmax =_max)\n",
    "\n",
    "ax[0].set_title( 'After: Observed prevalence')\n",
    "ax[1].set_title( 'After: Estimated prevalence (aggregated VAE)')"
   ]
  },
  {
   "cell_type": "code",
   "execution_count": null,
   "id": "2285c960",
   "metadata": {},
   "outputs": [],
   "source": [
    "fig, ax = plt.subplots(1, 2, figsize=(10,5))\n",
    "\n",
    "ax[0].scatter(s[0:n_old].estimate, s[0:n_old].theta_vae_aggr)\n",
    "ax[0].set_ylim(_min-0.02, _max+0.02)\n",
    "ax[0].set_xlim(_min-0.02, _max+0.02)\n",
    "ax[0].axline((1, 1), slope=1, ls=\"--\", c=\".3\")\n",
    "ax[0].set_xlabel(\"Observed prevalence\")\n",
    "ax[0].set_ylabel(\"Estimated prevalence\")\n",
    "ax[0].set_title(\"Before 2010\")\n",
    "\n",
    "ax[1].scatter(s[n_old:(n_old + n_new)].estimate, s[n_old:(n_old + n_new)].theta_vae_aggr)\n",
    "ax[1].set_ylim(_min-0.02, _max+0.02)\n",
    "ax[1].set_xlim(_min-0.02, _max+0.02)\n",
    "ax[1].axline((1, 1), slope=1, ls=\"--\", c=\".3\")\n",
    "ax[1].set_xlabel(\"Observed prevalence\")\n",
    "ax[1].set_ylabel(\"Estimated prevalence\")\n",
    "ax[1].set_title(\"After 2010\")\n",
    "\n",
    "#plt.rcParams['figure.dpi'] = 300\n",
    "#plt.rcParams['savefig.dpi'] = 300\n",
    "#plt.savefig('res/est_obs_vae.pdf')"
   ]
  },
  {
   "cell_type": "code",
   "execution_count": null,
   "id": "ecc772b1",
   "metadata": {},
   "outputs": [],
   "source": [
    "def prev_model_gp_aggr(args, y=None):\n",
    "    \n",
    "    n_obs = args['n_obs']\n",
    "    x = args[\"x\"]\n",
    "    gp_kernel=args[\"gp_kernel\"] \n",
    "    jitter = args[\"jitter\"]\n",
    "    M_old = args[\"M_old\"]\n",
    "    M_new = args[\"M_new\"]\n",
    "    \n",
    "    # random effect - aggregated GP\n",
    "    length = numpyro.sample(\"kernel_length\", dist.InverseGamma(3,3))    \n",
    "    var = numpyro.sample(\"kernel_var\", dist.HalfNormal(0.05))    \n",
    "    k = gp_kernel(x, x, var, length, jitter)\n",
    "    f = numpyro.sample(\"f\", dist.MultivariateNormal(loc=jnp.zeros(x.shape[0]), covariance_matrix=k))\n",
    "\n",
    "    # aggregate f into gp_aggr according to indexing of (point in polygon)\n",
    "    gp_aggr_old = numpyro.deterministic('gp_aggr_old', M_g(M_old, f))\n",
    "    gp_aggr_new = numpyro.deterministic('gp_aggr_new', M_g(M_new, f))\n",
    "    gp_aggr = numpyro.deterministic('gp_aggr', jnp.concatenate([gp_aggr_old, gp_aggr_new]))\n",
    "    \n",
    "    # fixed effects\n",
    "    b0 = numpyro.sample('b0', dist.Normal(0, 1))\n",
    "    \n",
    "    # linear predictor\n",
    "    lp = b0 + gp_aggr\n",
    "    theta = numpyro.deterministic(\"theta\", jax.nn.sigmoid(lp))\n",
    "     \n",
    "    numpyro.sample(\"obs\", dist.BinomialLogits(total_count = n_obs, logits=lp), obs=y)"
   ]
  },
  {
   "cell_type": "code",
   "execution_count": null,
   "id": "1bc49e7d",
   "metadata": {},
   "outputs": [],
   "source": [
    "# Load \n",
    "#with open('MCMCs/prev_model_gp_aggr_joint_500iter_lsIG3_3', 'rb') as file:\n",
    "#    mcmc_gp_aggr = pickle.load(file)\n",
    "\n",
    "#prev_samples_aggr = mcmc_gp_aggr.get_samples()\n",
    "#mcmc_gp_aggr.print_summary(exclude_deterministic=False)"
   ]
  },
  {
   "cell_type": "code",
   "execution_count": null,
   "id": "fb8ad69e",
   "metadata": {},
   "outputs": [],
   "source": [
    "# posterior predictive\n",
    "prev_posterior_predictive = Predictive(prev_model_gp_aggr, prev_samples_aggr)(random.PRNGKey(1), args)\n",
    "\n",
    "theta_samps_gp = prev_posterior_predictive['theta']\n",
    "theta_mean_gp = theta_samps_gp.mean(axis=0)\n",
    "bci_gp_25 = np.quantile(theta_samps_gp, 0.25, axis=0)\n",
    "bci_gp_75 = np.quantile(theta_samps_gp, 0.75, axis=0)\n",
    "\n",
    "s['theta_gp'] = theta_mean_gp\n",
    "theta_estimated_gp = s['theta_gp']"
   ]
  },
  {
   "cell_type": "code",
   "execution_count": null,
   "id": "b75e2ac3",
   "metadata": {},
   "outputs": [],
   "source": [
    "fig, ax = plt.subplots(1, 2, figsize=(10,5))\n",
    "\n",
    "ax[0].scatter(s[0:n_old].theta_gp, s[0:n_old].theta_vae_aggr)\n",
    "ax[0].set_ylim(_min-0.02, _max+0.02)\n",
    "ax[0].set_xlim(_min-0.02, _max+0.02)\n",
    "ax[0].axline((1, 1), slope=1, ls=\"--\", c=\".3\")\n",
    "ax[0].set_xlabel(\"estimated prev (aggGP)\")\n",
    "ax[0].set_ylabel(\"estimated prev (aggVAE)\")\n",
    "ax[0].set_title(\"before 2010\")\n",
    "\n",
    "ax[1].scatter(s[n_old:(n_old + n_new)].theta_gp, s[n_old:(n_old + n_new)].theta_vae_aggr)\n",
    "ax[1].set_ylim(_min-0.02, _max+0.02)\n",
    "ax[1].set_xlim(_min-0.02, _max+0.02)\n",
    "ax[1].axline((1, 1), slope=1, ls=\"--\", c=\".3\")\n",
    "ax[1].set_xlabel(\"estimated prev (aggGP)\")\n",
    "ax[1].set_ylabel(\"estimated prev (aggVAE)\")\n",
    "ax[1].set_title(\"after 2010\")"
   ]
  },
  {
   "cell_type": "code",
   "execution_count": null,
   "id": "6b380ee7",
   "metadata": {},
   "outputs": [],
   "source": [
    "# 1\n",
    "_max = np.max([s['estimate'], s['theta_gp'], s['theta_vae_aggr']])\n",
    "_min = np.min([s['estimate'], s['theta_gp'], s['theta_vae_aggr']])"
   ]
  },
  {
   "cell_type": "code",
   "execution_count": null,
   "id": "92a0583e",
   "metadata": {},
   "outputs": [],
   "source": [
    "fig, ax = plt.subplots(1, 3, figsize=(18,6))\n",
    "s[0:n_old].plot(column=\"estimate\", ax=ax[0], legend=True, cmap='plasma', vmin=_min, vmax =_max)\n",
    "s[0:n_old].plot(column=\"theta_gp\", ax=ax[1], legend=True, cmap='plasma', vmin=_min, vmax =_max)\n",
    "s[0:n_old].plot(column=\"theta_vae_aggr\", ax=ax[2], legend=True, cmap='plasma', vmin=_min, vmax =_max)\n",
    "ax[0].set_title( 'Before: Observed prev')\n",
    "ax[1].set_title( 'Before: Estimated prev (aggGP)')\n",
    "ax[2].set_title( 'Before: Estimated prev (aggVAE)')"
   ]
  },
  {
   "cell_type": "code",
   "execution_count": null,
   "id": "8981c7b5",
   "metadata": {},
   "outputs": [],
   "source": [
    "fig, ax = plt.subplots(1, 3, figsize=(18,6))\n",
    "s[n_old:(n_old+n_new)].plot(column=\"estimate\", ax=ax[0], legend=True, cmap='plasma', vmin=_min, vmax =_max)\n",
    "s[n_old:(n_old+n_new)].plot(column=\"theta_gp\", ax=ax[1], legend=True, cmap='plasma', vmin=_min, vmax =_max)\n",
    "s[n_old:(n_old+n_new)].plot(column=\"theta_vae_aggr\", ax=ax[2], legend=True, cmap='plasma', vmin=_min, vmax =_max)\n",
    "ax[0].set_title( 'After: Observed prev')\n",
    "ax[1].set_title( 'After: Estimated prev (aggGP)')\n",
    "ax[2].set_title( 'After: Estimated prev (aggVAE)')"
   ]
  },
  {
   "cell_type": "code",
   "execution_count": null,
   "id": "b5382d1a",
   "metadata": {},
   "outputs": [],
   "source": []
  }
 ],
 "metadata": {
  "kernelspec": {
   "display_name": "Python 3 (ipykernel)",
   "language": "python",
   "name": "python3"
  },
  "language_info": {
   "codemirror_mode": {
    "name": "ipython",
    "version": 3
   },
   "file_extension": ".py",
   "mimetype": "text/x-python",
   "name": "python",
   "nbconvert_exporter": "python",
   "pygments_lexer": "ipython3",
   "version": "3.9.6"
  }
 },
 "nbformat": 4,
 "nbformat_minor": 5
}
